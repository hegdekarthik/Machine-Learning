{
 "cells": [
  {
   "cell_type": "code",
   "execution_count": 1,
   "metadata": {},
   "outputs": [],
   "source": [
    "import pandas as pd\n",
    "import numpy as np\n",
    "from sklearn.tree import DecisionTreeClassifier\n",
    "from sklearn.ensemble import RandomForestClassifier, GradientBoostingClassifier, BaggingClassifier\n",
    "from sklearn.model_selection import train_test_split"
   ]
  },
  {
   "cell_type": "code",
   "execution_count": 2,
   "metadata": {},
   "outputs": [],
   "source": [
    "wine_df = pd.read_csv('whitewines.csv')"
   ]
  },
  {
   "cell_type": "code",
   "execution_count": 3,
   "metadata": {},
   "outputs": [
    {
     "data": {
      "text/html": [
       "<div>\n",
       "<style scoped>\n",
       "    .dataframe tbody tr th:only-of-type {\n",
       "        vertical-align: middle;\n",
       "    }\n",
       "\n",
       "    .dataframe tbody tr th {\n",
       "        vertical-align: top;\n",
       "    }\n",
       "\n",
       "    .dataframe thead th {\n",
       "        text-align: right;\n",
       "    }\n",
       "</style>\n",
       "<table border=\"1\" class=\"dataframe\">\n",
       "  <thead>\n",
       "    <tr style=\"text-align: right;\">\n",
       "      <th></th>\n",
       "      <th>fixed acidity</th>\n",
       "      <th>volatile acidity</th>\n",
       "      <th>citric acid</th>\n",
       "      <th>residual sugar</th>\n",
       "      <th>chlorides</th>\n",
       "      <th>free sulfur dioxide</th>\n",
       "      <th>total sulfur dioxide</th>\n",
       "      <th>density</th>\n",
       "      <th>pH</th>\n",
       "      <th>sulphates</th>\n",
       "      <th>alcohol</th>\n",
       "      <th>quality</th>\n",
       "    </tr>\n",
       "  </thead>\n",
       "  <tbody>\n",
       "    <tr>\n",
       "      <th>0</th>\n",
       "      <td>6.7</td>\n",
       "      <td>0.62</td>\n",
       "      <td>0.24</td>\n",
       "      <td>1.10</td>\n",
       "      <td>0.039</td>\n",
       "      <td>6.0</td>\n",
       "      <td>62.0</td>\n",
       "      <td>0.99340</td>\n",
       "      <td>3.41</td>\n",
       "      <td>0.32</td>\n",
       "      <td>10.400000</td>\n",
       "      <td>5</td>\n",
       "    </tr>\n",
       "    <tr>\n",
       "      <th>1</th>\n",
       "      <td>5.7</td>\n",
       "      <td>0.22</td>\n",
       "      <td>0.20</td>\n",
       "      <td>16.00</td>\n",
       "      <td>0.044</td>\n",
       "      <td>41.0</td>\n",
       "      <td>113.0</td>\n",
       "      <td>0.99862</td>\n",
       "      <td>3.22</td>\n",
       "      <td>0.46</td>\n",
       "      <td>8.900000</td>\n",
       "      <td>6</td>\n",
       "    </tr>\n",
       "    <tr>\n",
       "      <th>2</th>\n",
       "      <td>5.9</td>\n",
       "      <td>0.19</td>\n",
       "      <td>0.26</td>\n",
       "      <td>7.40</td>\n",
       "      <td>0.034</td>\n",
       "      <td>33.0</td>\n",
       "      <td>123.0</td>\n",
       "      <td>0.99500</td>\n",
       "      <td>3.49</td>\n",
       "      <td>0.42</td>\n",
       "      <td>10.100000</td>\n",
       "      <td>6</td>\n",
       "    </tr>\n",
       "    <tr>\n",
       "      <th>3</th>\n",
       "      <td>5.3</td>\n",
       "      <td>0.47</td>\n",
       "      <td>0.10</td>\n",
       "      <td>1.30</td>\n",
       "      <td>0.036</td>\n",
       "      <td>11.0</td>\n",
       "      <td>74.0</td>\n",
       "      <td>0.99082</td>\n",
       "      <td>3.48</td>\n",
       "      <td>0.54</td>\n",
       "      <td>11.200000</td>\n",
       "      <td>4</td>\n",
       "    </tr>\n",
       "    <tr>\n",
       "      <th>4</th>\n",
       "      <td>6.4</td>\n",
       "      <td>0.29</td>\n",
       "      <td>0.21</td>\n",
       "      <td>9.65</td>\n",
       "      <td>0.041</td>\n",
       "      <td>36.0</td>\n",
       "      <td>119.0</td>\n",
       "      <td>0.99334</td>\n",
       "      <td>2.99</td>\n",
       "      <td>0.34</td>\n",
       "      <td>10.933333</td>\n",
       "      <td>6</td>\n",
       "    </tr>\n",
       "  </tbody>\n",
       "</table>\n",
       "</div>"
      ],
      "text/plain": [
       "   fixed acidity  volatile acidity  citric acid  residual sugar  chlorides  \\\n",
       "0            6.7              0.62         0.24            1.10      0.039   \n",
       "1            5.7              0.22         0.20           16.00      0.044   \n",
       "2            5.9              0.19         0.26            7.40      0.034   \n",
       "3            5.3              0.47         0.10            1.30      0.036   \n",
       "4            6.4              0.29         0.21            9.65      0.041   \n",
       "\n",
       "   free sulfur dioxide  total sulfur dioxide  density    pH  sulphates  \\\n",
       "0                  6.0                  62.0  0.99340  3.41       0.32   \n",
       "1                 41.0                 113.0  0.99862  3.22       0.46   \n",
       "2                 33.0                 123.0  0.99500  3.49       0.42   \n",
       "3                 11.0                  74.0  0.99082  3.48       0.54   \n",
       "4                 36.0                 119.0  0.99334  2.99       0.34   \n",
       "\n",
       "     alcohol  quality  \n",
       "0  10.400000        5  \n",
       "1   8.900000        6  \n",
       "2  10.100000        6  \n",
       "3  11.200000        4  \n",
       "4  10.933333        6  "
      ]
     },
     "execution_count": 3,
     "metadata": {},
     "output_type": "execute_result"
    }
   ],
   "source": [
    "wine_df.head()"
   ]
  },
  {
   "cell_type": "code",
   "execution_count": 4,
   "metadata": {},
   "outputs": [
    {
     "data": {
      "text/plain": [
       "fixed acidity           0\n",
       "volatile acidity        0\n",
       "citric acid             0\n",
       "residual sugar          0\n",
       "chlorides               0\n",
       "free sulfur dioxide     0\n",
       "total sulfur dioxide    0\n",
       "density                 0\n",
       "pH                      0\n",
       "sulphates               0\n",
       "alcohol                 0\n",
       "quality                 0\n",
       "dtype: int64"
      ]
     },
     "execution_count": 4,
     "metadata": {},
     "output_type": "execute_result"
    }
   ],
   "source": [
    "wine_df.isna().sum()"
   ]
  },
  {
   "cell_type": "code",
   "execution_count": 5,
   "metadata": {},
   "outputs": [
    {
     "data": {
      "text/plain": [
       "fixed acidity           0\n",
       "volatile acidity        0\n",
       "citric acid             0\n",
       "residual sugar          0\n",
       "chlorides               0\n",
       "free sulfur dioxide     0\n",
       "total sulfur dioxide    0\n",
       "density                 0\n",
       "pH                      0\n",
       "sulphates               0\n",
       "alcohol                 0\n",
       "quality                 0\n",
       "dtype: int64"
      ]
     },
     "execution_count": 5,
     "metadata": {},
     "output_type": "execute_result"
    }
   ],
   "source": [
    "wine_df.isnull().sum()"
   ]
  },
  {
   "cell_type": "code",
   "execution_count": 6,
   "metadata": {},
   "outputs": [
    {
     "name": "stdout",
     "output_type": "stream",
     "text": [
      "<class 'pandas.core.frame.DataFrame'>\n",
      "RangeIndex: 4898 entries, 0 to 4897\n",
      "Data columns (total 12 columns):\n",
      "fixed acidity           4898 non-null float64\n",
      "volatile acidity        4898 non-null float64\n",
      "citric acid             4898 non-null float64\n",
      "residual sugar          4898 non-null float64\n",
      "chlorides               4898 non-null float64\n",
      "free sulfur dioxide     4898 non-null float64\n",
      "total sulfur dioxide    4898 non-null float64\n",
      "density                 4898 non-null float64\n",
      "pH                      4898 non-null float64\n",
      "sulphates               4898 non-null float64\n",
      "alcohol                 4898 non-null float64\n",
      "quality                 4898 non-null int64\n",
      "dtypes: float64(11), int64(1)\n",
      "memory usage: 459.3 KB\n"
     ]
    }
   ],
   "source": [
    "wine_df.info()"
   ]
  },
  {
   "cell_type": "code",
   "execution_count": 10,
   "metadata": {},
   "outputs": [
    {
     "data": {
      "text/plain": [
       "array([5, 6, 4, 7, 3, 8, 9])"
      ]
     },
     "execution_count": 10,
     "metadata": {},
     "output_type": "execute_result"
    }
   ],
   "source": [
    "wine_df['quality'].unique()"
   ]
  },
  {
   "cell_type": "code",
   "execution_count": 11,
   "metadata": {},
   "outputs": [
    {
     "data": {
      "text/plain": [
       "count    4898.000000\n",
       "mean        5.877909\n",
       "std         0.885639\n",
       "min         3.000000\n",
       "25%         5.000000\n",
       "50%         6.000000\n",
       "75%         6.000000\n",
       "max         9.000000\n",
       "Name: quality, dtype: float64"
      ]
     },
     "execution_count": 11,
     "metadata": {},
     "output_type": "execute_result"
    }
   ],
   "source": [
    "wine_df['quality'].describe()"
   ]
  },
  {
   "cell_type": "code",
   "execution_count": 16,
   "metadata": {},
   "outputs": [
    {
     "data": {
      "text/html": [
       "<div>\n",
       "<style scoped>\n",
       "    .dataframe tbody tr th:only-of-type {\n",
       "        vertical-align: middle;\n",
       "    }\n",
       "\n",
       "    .dataframe tbody tr th {\n",
       "        vertical-align: top;\n",
       "    }\n",
       "\n",
       "    .dataframe thead tr th {\n",
       "        text-align: left;\n",
       "    }\n",
       "\n",
       "    .dataframe thead tr:last-of-type th {\n",
       "        text-align: right;\n",
       "    }\n",
       "</style>\n",
       "<table border=\"1\" class=\"dataframe\">\n",
       "  <thead>\n",
       "    <tr>\n",
       "      <th>col_0</th>\n",
       "      <th>5</th>\n",
       "    </tr>\n",
       "    <tr>\n",
       "      <th>col_1</th>\n",
       "      <th>6</th>\n",
       "    </tr>\n",
       "    <tr>\n",
       "      <th>col_2</th>\n",
       "      <th>4</th>\n",
       "    </tr>\n",
       "    <tr>\n",
       "      <th>col_3</th>\n",
       "      <th>7</th>\n",
       "    </tr>\n",
       "    <tr>\n",
       "      <th>col_4</th>\n",
       "      <th>3</th>\n",
       "    </tr>\n",
       "    <tr>\n",
       "      <th>col_5</th>\n",
       "      <th>8</th>\n",
       "    </tr>\n",
       "    <tr>\n",
       "      <th>col_6</th>\n",
       "      <th>9</th>\n",
       "    </tr>\n",
       "    <tr>\n",
       "      <th>quality</th>\n",
       "      <th></th>\n",
       "    </tr>\n",
       "  </thead>\n",
       "  <tbody>\n",
       "    <tr>\n",
       "      <th>3</th>\n",
       "      <td>20</td>\n",
       "    </tr>\n",
       "    <tr>\n",
       "      <th>4</th>\n",
       "      <td>163</td>\n",
       "    </tr>\n",
       "    <tr>\n",
       "      <th>5</th>\n",
       "      <td>1457</td>\n",
       "    </tr>\n",
       "    <tr>\n",
       "      <th>6</th>\n",
       "      <td>2198</td>\n",
       "    </tr>\n",
       "    <tr>\n",
       "      <th>7</th>\n",
       "      <td>880</td>\n",
       "    </tr>\n",
       "    <tr>\n",
       "      <th>8</th>\n",
       "      <td>175</td>\n",
       "    </tr>\n",
       "    <tr>\n",
       "      <th>9</th>\n",
       "      <td>5</td>\n",
       "    </tr>\n",
       "  </tbody>\n",
       "</table>\n",
       "</div>"
      ],
      "text/plain": [
       "col_0       5\n",
       "col_1       6\n",
       "col_2       4\n",
       "col_3       7\n",
       "col_4       3\n",
       "col_5       8\n",
       "col_6       9\n",
       "quality      \n",
       "3          20\n",
       "4         163\n",
       "5        1457\n",
       "6        2198\n",
       "7         880\n",
       "8         175\n",
       "9           5"
      ]
     },
     "execution_count": 16,
     "metadata": {},
     "output_type": "execute_result"
    }
   ],
   "source": [
    "pd.crosstab(wine_df['quality'],[5, 6, 4, 7, 3, 8, 9])"
   ]
  },
  {
   "cell_type": "code",
   "execution_count": 17,
   "metadata": {},
   "outputs": [
    {
     "data": {
      "text/plain": [
       "6    2198\n",
       "5    1457\n",
       "7     880\n",
       "8     175\n",
       "4     163\n",
       "3      20\n",
       "9       5\n",
       "Name: quality, dtype: int64"
      ]
     },
     "execution_count": 17,
     "metadata": {},
     "output_type": "execute_result"
    }
   ],
   "source": [
    "wine_df['quality'].value_counts()"
   ]
  },
  {
   "cell_type": "code",
   "execution_count": 18,
   "metadata": {},
   "outputs": [],
   "source": [
    "## Split the data\n",
    "\n",
    "x = wine_df.iloc[:,:-1]\n",
    "y = wine_df.iloc[:,-1]"
   ]
  },
  {
   "cell_type": "code",
   "execution_count": 19,
   "metadata": {},
   "outputs": [],
   "source": [
    "x_train, x_test, y_train, y_test = train_test_split(x, y, test_size=0.3, random_state=0)"
   ]
  },
  {
   "cell_type": "markdown",
   "metadata": {},
   "source": [
    "## Training - Classifiers"
   ]
  },
  {
   "cell_type": "code",
   "execution_count": 34,
   "metadata": {},
   "outputs": [],
   "source": [
    "## Decision Tree\n",
    "from sklearn.tree import DecisionTreeClassifier\n",
    "dt_clf = DecisionTreeClassifier(max_depth=5)"
   ]
  },
  {
   "cell_type": "code",
   "execution_count": 35,
   "metadata": {},
   "outputs": [
    {
     "data": {
      "text/plain": [
       "DecisionTreeClassifier(class_weight=None, criterion='gini', max_depth=5,\n",
       "            max_features=None, max_leaf_nodes=None,\n",
       "            min_impurity_decrease=0.0, min_impurity_split=None,\n",
       "            min_samples_leaf=1, min_samples_split=2,\n",
       "            min_weight_fraction_leaf=0.0, presort=False, random_state=None,\n",
       "            splitter='best')"
      ]
     },
     "execution_count": 35,
     "metadata": {},
     "output_type": "execute_result"
    }
   ],
   "source": [
    "dt_clf.fit(x_train,y_train)"
   ]
  },
  {
   "cell_type": "code",
   "execution_count": 36,
   "metadata": {},
   "outputs": [],
   "source": [
    "gb_clf = GradientBoostingClassifier()"
   ]
  },
  {
   "cell_type": "code",
   "execution_count": 37,
   "metadata": {},
   "outputs": [
    {
     "data": {
      "text/plain": [
       "GradientBoostingClassifier(criterion='friedman_mse', init=None,\n",
       "              learning_rate=0.1, loss='deviance', max_depth=3,\n",
       "              max_features=None, max_leaf_nodes=None,\n",
       "              min_impurity_decrease=0.0, min_impurity_split=None,\n",
       "              min_samples_leaf=1, min_samples_split=2,\n",
       "              min_weight_fraction_leaf=0.0, n_estimators=100,\n",
       "              presort='auto', random_state=None, subsample=1.0, verbose=0,\n",
       "              warm_start=False)"
      ]
     },
     "execution_count": 37,
     "metadata": {},
     "output_type": "execute_result"
    }
   ],
   "source": [
    "gb_clf.fit(x_train,y_train)"
   ]
  },
  {
   "cell_type": "code",
   "execution_count": 38,
   "metadata": {},
   "outputs": [],
   "source": [
    "## random Forest\n",
    "\n",
    "rf_clf = RandomForestClassifier()"
   ]
  },
  {
   "cell_type": "code",
   "execution_count": 39,
   "metadata": {},
   "outputs": [
    {
     "data": {
      "text/plain": [
       "RandomForestClassifier(bootstrap=True, class_weight=None, criterion='gini',\n",
       "            max_depth=None, max_features='auto', max_leaf_nodes=None,\n",
       "            min_impurity_decrease=0.0, min_impurity_split=None,\n",
       "            min_samples_leaf=1, min_samples_split=2,\n",
       "            min_weight_fraction_leaf=0.0, n_estimators=10, n_jobs=1,\n",
       "            oob_score=False, random_state=None, verbose=0,\n",
       "            warm_start=False)"
      ]
     },
     "execution_count": 39,
     "metadata": {},
     "output_type": "execute_result"
    }
   ],
   "source": [
    "rf_clf.fit(x_train,y_train)"
   ]
  },
  {
   "cell_type": "code",
   "execution_count": 41,
   "metadata": {},
   "outputs": [],
   "source": [
    "bgcl = BaggingClassifier(n_estimators=50, max_samples=.7 , oob_score=False)\n",
    "bgcl = bgcl.fit(x_train,y_train)"
   ]
  },
  {
   "cell_type": "code",
   "execution_count": 43,
   "metadata": {},
   "outputs": [
    {
     "name": "stdout",
     "output_type": "stream",
     "text": [
      "simpleTree  0.5047619047619047\n",
      "gbmTree  0.5829931972789115\n",
      "bgcl  0.64421768707483\n",
      "rfTree 0.6340136054421769\n"
     ]
    }
   ],
   "source": [
    "print(\"simpleTree \", dt_clf.score(x_test,y_test))\n",
    "print(\"gbmTree \",gb_clf.score(x_test,y_test))\n",
    "print(\"bgcl \", bgcl.score(x_test,y_test))\n",
    "print(\"rfTree\", rf_clf.score(x_test,y_test))"
   ]
  },
  {
   "cell_type": "code",
   "execution_count": 45,
   "metadata": {},
   "outputs": [
    {
     "name": "stdout",
     "output_type": "stream",
     "text": [
      "Important features for GBM Classifier \n",
      "\n",
      "fixed acidity : 0.08055539279732192\n",
      "volatile acidity : 0.07400635401724168\n",
      "citric acid : 0.056377589970280494\n",
      "residual sugar : 0.0860215548152759\n",
      "chlorides : 0.08213903450542855\n",
      "free sulfur dioxide : 0.14178736897274027\n",
      "total sulfur dioxide : 0.09482030940873246\n",
      "density : 0.08931238299222687\n",
      "pH : 0.12906048326501401\n",
      "sulphates : 0.06488817286808003\n",
      "alcohol : 0.10103135638765785\n"
     ]
    }
   ],
   "source": [
    "print (\"Important features for GBM Classifier \\n\")\n",
    "for importance, feature in zip(gb_clf.feature_importances_, \n",
    "                               ['fixed acidity', 'volatile acidity', 'citric acid', \n",
    "                                'residual sugar','chlorides', 'free sulfur dioxide', \n",
    "                                'total sulfur dioxide', 'density', 'pH', 'sulphates', 'alcohol']):\n",
    "    print (\"{0} : {1}\".format(feature,importance))"
   ]
  },
  {
   "cell_type": "markdown",
   "metadata": {},
   "source": [
    "### Gridsearch for Randomforest"
   ]
  },
  {
   "cell_type": "code",
   "execution_count": 46,
   "metadata": {},
   "outputs": [],
   "source": [
    "from sklearn.grid_search import GridSearchCV"
   ]
  },
  {
   "cell_type": "code",
   "execution_count": 69,
   "metadata": {},
   "outputs": [],
   "source": [
    "param_grid = dict(n_estimators=list(range(5,50,5)), max_depth = list(range(2,20,2)))"
   ]
  },
  {
   "cell_type": "code",
   "execution_count": 70,
   "metadata": {},
   "outputs": [],
   "source": [
    "grid_cv = GridSearchCV(rf_clf, param_grid, cv=10, scoring='accuracy',n_jobs=-1)"
   ]
  },
  {
   "cell_type": "code",
   "execution_count": 71,
   "metadata": {},
   "outputs": [
    {
     "name": "stderr",
     "output_type": "stream",
     "text": [
      "/anaconda3/lib/python3.6/site-packages/sklearn/cross_validation.py:553: Warning: The least populated class in y has only 3 members, which is too few. The minimum number of labels for any class cannot be less than n_folds=10.\n",
      "  % (min_labels, self.n_folds)), Warning)\n"
     ]
    },
    {
     "data": {
      "text/plain": [
       "GridSearchCV(cv=10, error_score='raise',\n",
       "       estimator=RandomForestClassifier(bootstrap=True, class_weight=None, criterion='gini',\n",
       "            max_depth=None, max_features='auto', max_leaf_nodes=None,\n",
       "            min_impurity_decrease=0.0, min_impurity_split=None,\n",
       "            min_samples_leaf=1, min_samples_split=2,\n",
       "            min_weight_fraction_leaf=0.0, n_estimators=10, n_jobs=1,\n",
       "            oob_score=False, random_state=None, verbose=0,\n",
       "            warm_start=False),\n",
       "       fit_params={}, iid=True, n_jobs=-1,\n",
       "       param_grid={'n_estimators': [5, 10, 15, 20, 25, 30, 35, 40, 45], 'max_depth': [2, 4, 6, 8, 10, 12, 14, 16, 18]},\n",
       "       pre_dispatch='2*n_jobs', refit=True, scoring='accuracy', verbose=0)"
      ]
     },
     "execution_count": 71,
     "metadata": {},
     "output_type": "execute_result"
    }
   ],
   "source": [
    "grid_cv.fit(x_train,y_train)"
   ]
  },
  {
   "cell_type": "code",
   "execution_count": 72,
   "metadata": {},
   "outputs": [
    {
     "name": "stdout",
     "output_type": "stream",
     "text": [
      "{'max_depth': 16, 'n_estimators': 45}\n"
     ]
    }
   ],
   "source": [
    "print (grid_cv.best_params_)"
   ]
  },
  {
   "cell_type": "code",
   "execution_count": 73,
   "metadata": {},
   "outputs": [
    {
     "name": "stdout",
     "output_type": "stream",
     "text": [
      "0.64421768707483\n"
     ]
    }
   ],
   "source": [
    "print (grid_cv.score(x_test,y_test))"
   ]
  },
  {
   "cell_type": "code",
   "execution_count": 75,
   "metadata": {},
   "outputs": [
    {
     "name": "stdout",
     "output_type": "stream",
     "text": [
      "[mean: 0.50000, std: 0.02208, params: {'max_depth': 2, 'n_estimators': 5},\n",
      " mean: 0.50642, std: 0.01323, params: {'max_depth': 2, 'n_estimators': 10},\n",
      " mean: 0.50496, std: 0.02179, params: {'max_depth': 2, 'n_estimators': 15},\n",
      " mean: 0.51109, std: 0.01487, params: {'max_depth': 2, 'n_estimators': 20},\n",
      " mean: 0.51692, std: 0.01722, params: {'max_depth': 2, 'n_estimators': 25},\n",
      " mean: 0.51663, std: 0.01521, params: {'max_depth': 2, 'n_estimators': 30},\n",
      " mean: 0.51692, std: 0.01744, params: {'max_depth': 2, 'n_estimators': 35},\n",
      " mean: 0.51575, std: 0.01594, params: {'max_depth': 2, 'n_estimators': 40},\n",
      " mean: 0.51604, std: 0.01664, params: {'max_depth': 2, 'n_estimators': 45},\n",
      " mean: 0.53442, std: 0.02334, params: {'max_depth': 4, 'n_estimators': 5},\n",
      " mean: 0.54172, std: 0.01889, params: {'max_depth': 4, 'n_estimators': 10},\n",
      " mean: 0.53296, std: 0.02009, params: {'max_depth': 4, 'n_estimators': 15},\n",
      " mean: 0.54142, std: 0.00899, params: {'max_depth': 4, 'n_estimators': 20},\n",
      " mean: 0.54230, std: 0.01150, params: {'max_depth': 4, 'n_estimators': 25},\n",
      " mean: 0.53763, std: 0.01367, params: {'max_depth': 4, 'n_estimators': 30},\n",
      " mean: 0.54113, std: 0.01567, params: {'max_depth': 4, 'n_estimators': 35},\n",
      " mean: 0.54638, std: 0.01378, params: {'max_depth': 4, 'n_estimators': 40},\n",
      " mean: 0.54492, std: 0.01667, params: {'max_depth': 4, 'n_estimators': 45},\n",
      " mean: 0.54667, std: 0.01937, params: {'max_depth': 6, 'n_estimators': 5},\n",
      " mean: 0.56009, std: 0.01998, params: {'max_depth': 6, 'n_estimators': 10},\n",
      " mean: 0.56097, std: 0.02621, params: {'max_depth': 6, 'n_estimators': 15},\n",
      " mean: 0.56243, std: 0.01869, params: {'max_depth': 6, 'n_estimators': 20},\n",
      " mean: 0.56389, std: 0.02144, params: {'max_depth': 6, 'n_estimators': 25},\n",
      " mean: 0.56418, std: 0.01202, params: {'max_depth': 6, 'n_estimators': 30},\n",
      " mean: 0.56097, std: 0.02430, params: {'max_depth': 6, 'n_estimators': 35},\n",
      " mean: 0.56826, std: 0.01562, params: {'max_depth': 6, 'n_estimators': 40},\n",
      " mean: 0.56622, std: 0.01466, params: {'max_depth': 6, 'n_estimators': 45},\n",
      " mean: 0.55980, std: 0.01985, params: {'max_depth': 8, 'n_estimators': 5},\n",
      " mean: 0.58226, std: 0.02121, params: {'max_depth': 8, 'n_estimators': 10},\n",
      " mean: 0.59189, std: 0.01787, params: {'max_depth': 8, 'n_estimators': 15},\n",
      " mean: 0.59043, std: 0.02102, params: {'max_depth': 8, 'n_estimators': 20},\n",
      " mean: 0.59247, std: 0.01193, params: {'max_depth': 8, 'n_estimators': 25},\n",
      " mean: 0.59072, std: 0.01380, params: {'max_depth': 8, 'n_estimators': 30},\n",
      " mean: 0.58781, std: 0.01922, params: {'max_depth': 8, 'n_estimators': 35},\n",
      " mean: 0.58956, std: 0.01385, params: {'max_depth': 8, 'n_estimators': 40},\n",
      " mean: 0.59247, std: 0.01256, params: {'max_depth': 8, 'n_estimators': 45},\n",
      " mean: 0.57497, std: 0.02013, params: {'max_depth': 10, 'n_estimators': 5},\n",
      " mean: 0.60677, std: 0.01799, params: {'max_depth': 10, 'n_estimators': 10},\n",
      " mean: 0.61698, std: 0.01633, params: {'max_depth': 10, 'n_estimators': 15},\n",
      " mean: 0.61435, std: 0.02454, params: {'max_depth': 10, 'n_estimators': 20},\n",
      " mean: 0.63098, std: 0.01300, params: {'max_depth': 10, 'n_estimators': 25},\n",
      " mean: 0.61873, std: 0.01725, params: {'max_depth': 10, 'n_estimators': 30},\n",
      " mean: 0.62048, std: 0.01718, params: {'max_depth': 10, 'n_estimators': 35},\n",
      " mean: 0.62544, std: 0.01576, params: {'max_depth': 10, 'n_estimators': 40},\n",
      " mean: 0.62252, std: 0.01844, params: {'max_depth': 10, 'n_estimators': 45},\n",
      " mean: 0.59102, std: 0.02629, params: {'max_depth': 12, 'n_estimators': 5},\n",
      " mean: 0.63944, std: 0.02589, params: {'max_depth': 12, 'n_estimators': 10},\n",
      " mean: 0.62777, std: 0.01920, params: {'max_depth': 12, 'n_estimators': 15},\n",
      " mean: 0.63623, std: 0.02423, params: {'max_depth': 12, 'n_estimators': 20},\n",
      " mean: 0.65140, std: 0.01892, params: {'max_depth': 12, 'n_estimators': 25},\n",
      " mean: 0.64936, std: 0.01699, params: {'max_depth': 12, 'n_estimators': 30},\n",
      " mean: 0.64644, std: 0.02293, params: {'max_depth': 12, 'n_estimators': 35},\n",
      " mean: 0.64907, std: 0.01708, params: {'max_depth': 12, 'n_estimators': 40},\n",
      " mean: 0.65053, std: 0.01747, params: {'max_depth': 12, 'n_estimators': 45},\n",
      " mean: 0.59772, std: 0.02069, params: {'max_depth': 14, 'n_estimators': 5},\n",
      " mean: 0.63127, std: 0.02394, params: {'max_depth': 14, 'n_estimators': 10},\n",
      " mean: 0.63886, std: 0.02052, params: {'max_depth': 14, 'n_estimators': 15},\n",
      " mean: 0.64907, std: 0.02008, params: {'max_depth': 14, 'n_estimators': 20},\n",
      " mean: 0.65607, std: 0.01240, params: {'max_depth': 14, 'n_estimators': 25},\n",
      " mean: 0.65490, std: 0.02209, params: {'max_depth': 14, 'n_estimators': 30},\n",
      " mean: 0.65607, std: 0.01673, params: {'max_depth': 14, 'n_estimators': 35},\n",
      " mean: 0.65723, std: 0.02294, params: {'max_depth': 14, 'n_estimators': 40},\n",
      " mean: 0.65723, std: 0.02365, params: {'max_depth': 14, 'n_estimators': 45},\n",
      " mean: 0.60968, std: 0.02890, params: {'max_depth': 16, 'n_estimators': 5},\n",
      " mean: 0.63652, std: 0.02007, params: {'max_depth': 16, 'n_estimators': 10},\n",
      " mean: 0.66044, std: 0.02310, params: {'max_depth': 16, 'n_estimators': 15},\n",
      " mean: 0.65228, std: 0.01897, params: {'max_depth': 16, 'n_estimators': 20},\n",
      " mean: 0.66015, std: 0.02720, params: {'max_depth': 16, 'n_estimators': 25},\n",
      " mean: 0.65490, std: 0.02650, params: {'max_depth': 16, 'n_estimators': 30},\n",
      " mean: 0.66103, std: 0.01902, params: {'max_depth': 16, 'n_estimators': 35},\n",
      " mean: 0.65898, std: 0.01994, params: {'max_depth': 16, 'n_estimators': 40},\n",
      " mean: 0.66744, std: 0.02308, params: {'max_depth': 16, 'n_estimators': 45},\n",
      " mean: 0.60823, std: 0.03061, params: {'max_depth': 18, 'n_estimators': 5},\n",
      " mean: 0.63331, std: 0.02205, params: {'max_depth': 18, 'n_estimators': 10},\n",
      " mean: 0.64411, std: 0.01780, params: {'max_depth': 18, 'n_estimators': 15},\n",
      " mean: 0.64294, std: 0.02287, params: {'max_depth': 18, 'n_estimators': 20},\n",
      " mean: 0.65432, std: 0.01568, params: {'max_depth': 18, 'n_estimators': 25},\n",
      " mean: 0.66044, std: 0.02358, params: {'max_depth': 18, 'n_estimators': 30},\n",
      " mean: 0.65636, std: 0.01980, params: {'max_depth': 18, 'n_estimators': 35},\n",
      " mean: 0.66540, std: 0.01768, params: {'max_depth': 18, 'n_estimators': 40},\n",
      " mean: 0.65782, std: 0.01701, params: {'max_depth': 18, 'n_estimators': 45}]\n"
     ]
    }
   ],
   "source": [
    "from pprint import pprint\n",
    "pprint(grid_cv.grid_scores_)"
   ]
  },
  {
   "cell_type": "code",
   "execution_count": null,
   "metadata": {},
   "outputs": [],
   "source": []
  }
 ],
 "metadata": {
  "kernelspec": {
   "display_name": "Python 3",
   "language": "python",
   "name": "python3"
  },
  "language_info": {
   "codemirror_mode": {
    "name": "ipython",
    "version": 3
   },
   "file_extension": ".py",
   "mimetype": "text/x-python",
   "name": "python",
   "nbconvert_exporter": "python",
   "pygments_lexer": "ipython3",
   "version": "3.6.5"
  }
 },
 "nbformat": 4,
 "nbformat_minor": 2
}
